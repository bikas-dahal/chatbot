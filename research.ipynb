{
 "cells": [
  {
   "cell_type": "code",
   "execution_count": 1,
   "metadata": {},
   "outputs": [
    {
     "name": "stderr",
     "output_type": "stream",
     "text": [
      "d:\\break\\Django\\nlp-env\\Lib\\site-packages\\pinecone\\data\\index.py:1: TqdmWarning: IProgress not found. Please update jupyter and ipywidgets. See https://ipywidgets.readthedocs.io/en/stable/user_install.html\n",
      "  from tqdm.autonotebook import tqdm\n"
     ]
    }
   ],
   "source": [
    "from langchain.prompts import PromptTemplate \n",
    "from langchain.chains import RetrievalQA \n",
    "from langchain.embeddings import HuggingFaceEmbeddings \n",
    "from langchain.vectorstores import Pinecone \n",
    "import pinecone \n",
    "from langchain.document_loaders import PyPDFLoader, DirectoryLoader \n",
    "from langchain.text_splitter import RecursiveCharacterTextSplitter \n",
    "from langchain.llms import CTransformers \n",
    "from tqdm.autonotebook import tqdm"
   ]
  },
  {
   "cell_type": "code",
   "execution_count": 2,
   "metadata": {},
   "outputs": [],
   "source": [
    "# Extract data from pdf \n",
    "\n",
    "def load_pdf(data):\n",
    "    loader = DirectoryLoader(\n",
    "        data,\n",
    "        glob=\"*.pdf\",\n",
    "        loader_cls=PyPDFLoader,\n",
    "    )\n",
    "\n",
    "    documents = loader.load()\n",
    "\n",
    "    return documents"
   ]
  },
  {
   "cell_type": "code",
   "execution_count": 3,
   "metadata": {},
   "outputs": [],
   "source": [
    "extractd_data = load_pdf('data/')"
   ]
  },
  {
   "cell_type": "code",
   "execution_count": 4,
   "metadata": {},
   "outputs": [
    {
     "data": {
      "text/plain": [
       "[Document(page_content='', metadata={'source': 'data\\\\Medical_book.pdf', 'page': 0}),\n",
       " Document(page_content='TheGALE\\nENCYCLOPEDIA\\nofMEDICINE\\nSECOND EDITION', metadata={'source': 'data\\\\Medical_book.pdf', 'page': 1}),\n",
       " Document(page_content='TheGALE\\nENCYCLOPEDIA\\nofMEDICINE\\nSECOND EDITION\\nJACQUELINE L. LONGE, EDITOR\\nDEIRDRE S. BLANCHFIELD, ASSOCIATE EDITOR\\nVOLUME\\nA-B1', metadata={'source': 'data\\\\Medical_book.pdf', 'page': 2}),\n",
       " Document(page_content='STAFF\\nJacqueline L. Longe, Project Editor\\nDeirdre S. Blanchfield, Associate Editor\\nChristine B. Jeryan, Managing Editor\\nDonna Olendorf, Senior Editor\\nStacey Blachford, Associate Editor\\nKate Kretschmann, Melissa C. McDade, Ryan\\nThomason, Assistant Editors\\nMark Springer, Technical Specialist\\nAndrea Lopeman, Programmer/Analyst\\nBarbara J. Yarrow, Manager, Imaging and Multimedia\\nContent\\nRobyn V . Young, Project Manager, Imaging and\\nMultimedia Content\\nDean Dauphinais, Senior Editor, Imaging and\\nMultimedia Content\\nKelly A. Quin, Editor, Imaging and Multimedia Content\\nLeitha Etheridge-Sims, Mary K. Grimes, Dave Oblender,\\nImage Catalogers\\nPamela A. Reed, Imaging Coordinator\\nRandy Bassett, Imaging Supervisor\\nRobert Duncan, Senior Imaging Specialist\\nDan Newell, Imaging Specialist\\nChristine O’Bryan, Graphic Specialist\\nMaria Franklin, Permissions Manager\\nMargaret A. Chamberlain, Permissions Specialist\\nMichelle DiMercurio, Senior Art Director\\nMike Logusz, Graphic Artist\\nMary Beth Trimper, Manager, Composition and\\nElectronic Prepress\\nEvi Seoud, Assistant Manager, Composition Purchasing\\nand Electronic Prepress\\nDorothy Maki, Manufacturing Manager\\nWendy Blurton, Senior Manufacturing SpecialistThe GALE\\nENCYCLOPEDIA\\nof MEDICINE\\nSECOND EDITIONSince this page cannot legibly accommodate all copyright notices, the\\nacknowledgments constitute an extension of the copyright notice.\\nWhile every effort has been made to ensure the reliability of the infor-\\nmation presented in this publication, the Gale Group neither guaranteesthe accuracy of the data contained herein nor assumes any responsibili-ty for errors, omissions or discrepancies. The Gale Group accepts nopayment for listing, and inclusion in the publication of any organiza-tion, agency, institution, publication, service, or individual does notimply endorsement of the editor or publisher. Errors brought to theattention of the publisher and verified to the satisfaction of the publish-er will be corrected in future editions.\\nThis book is printed on recycled paper that meets Environmental Pro-\\ntection Agency standards.\\nThe paper used in this publication meets the minimum requirements of\\nAmerican National Standard for Information Sciences-PermanencePaper for Printed Library Materials, ANSI Z39.48-1984.\\nThis publication is a creative work fully protected by all applicable\\ncopyright laws, as well as by misappropriation, trade secret, unfair com-petition, and other applicable laws. The authors and editor of this workhave added value to the underlying factual material herein through oneor more of the following: unique and original selection, coordination,expression, arrangement, and classification of the information.\\nGale Group and design is a trademark used herein under license.All rights to this publication will be vigorously defended.Copyright © 2002\\nGale Group27500 Drake RoadFarmington Hills, MI 48331-3535\\nAll rights reserved including the right of reproduction in whole or in\\npart in any form.\\nISBN 0-7876-5489-2 (set)\\n0-7876-5490-6 (V ol. 1)0-7876-5491-4 (V ol. 2)0-7876-5492-2 (V ol. 3)0-7876-5493-0 (V ol. 4)0-7876-5494-9 (V ol. 5)\\nPrinted in the United States of America\\n10 9 8 7 6 5 4 3 2 1\\nLibrary of Congress Cataloging-in-Publication Data\\nGale encyclopedia of medicine / Jacqueline L. Longe, editor;\\nDeirdre S. Blanchfield, associate editor — 2nd ed.\\np. cm.\\nIncludes bibliographical references and index.\\nContents: V ol. 1. A-B — v. 2. C-F — v. 3.G-M — v. 4. N-S — v. 5. T-Z.\\nISBN 0-7876-5489-2 (set: hardcover) — ISBN 0-7876-5490-6\\n(vol. 1) — ISBN 0-7876-5491-4 (vol. 2) — ISBN 0-7876-5492-2(vol. 3) — ISBN 0-7876-5493-0 (vol. 4) — ISBN 0-7876-5494-9(vol. 5)\\n1. Internal medicine—Encyclopedias. I. Longe, Jacqueline L. \\nII. Blanchfield, Deirdre S. III. Gale Research Company.\\nRC41.G35 2001\\n616’.003—dc21\\n2001051245', metadata={'source': 'data\\\\Medical_book.pdf', 'page': 3}),\n",
       " Document(page_content='Introduction .................................................... ix\\nAdvisory Board .............................................. xi\\nContributors ................................................. xiii\\nEntries\\nVolume 1: A-B .............................................. 1\\nVolume 2: C-F .......................................... 625\\nVolume 3: G-M ....................................... 1375\\nVolume 4: N-S ........................................ 2307\\nVolume 5: T-Z ........................................ 3237\\nOrganizations ............................................ 3603\\nGeneral Index ............................................ 3625\\nGALE ENCYCLOPEDIA OF MEDICINE 2 VCONTENTS', metadata={'source': 'data\\\\Medical_book.pdf', 'page': 4})]"
      ]
     },
     "execution_count": 4,
     "metadata": {},
     "output_type": "execute_result"
    }
   ],
   "source": [
    "extractd_data[:5]"
   ]
  },
  {
   "cell_type": "code",
   "execution_count": 5,
   "metadata": {},
   "outputs": [],
   "source": [
    "# Create a text chunks \n",
    "\n",
    "def text_chunks(data):\n",
    "    text_splitter = RecursiveCharacterTextSplitter(\n",
    "        chunk_size=500,\n",
    "        chunk_overlap=20,\n",
    "    )\n",
    "\n",
    "    chunks = text_splitter.split_documents(data)\n",
    "\n",
    "    return chunks"
   ]
  },
  {
   "cell_type": "code",
   "execution_count": 6,
   "metadata": {},
   "outputs": [
    {
     "name": "stdout",
     "output_type": "stream",
     "text": [
      "Length of the chunk 7020\n"
     ]
    }
   ],
   "source": [
    "text_chunks = text_chunks(extractd_data)\n",
    "print(f'Length of the chunk', len(text_chunks))"
   ]
  },
  {
   "cell_type": "code",
   "execution_count": 8,
   "metadata": {},
   "outputs": [],
   "source": [
    "# Download embedding model \n",
    "\n",
    "def download_hugging_face_embedding():\n",
    "    embeddings = HuggingFaceEmbeddings(\n",
    "        # model_name=\"sentence-transformers/all-mpnet-base-v2\",\n",
    "        model_name=\"sentence-transformers/all-MiniLM-L6-v2\",\n",
    "        # device=\"cuda\",\n",
    "    )\n",
    "    return embeddings"
   ]
  },
  {
   "cell_type": "code",
   "execution_count": 9,
   "metadata": {},
   "outputs": [
    {
     "name": "stderr",
     "output_type": "stream",
     "text": [
      "d:\\break\\Django\\nlp-env\\Lib\\site-packages\\huggingface_hub\\file_download.py:1132: FutureWarning: `resume_download` is deprecated and will be removed in version 1.0.0. Downloads always resume when possible. If you want to force a new download, use `force_download=True`.\n",
      "  warnings.warn(\n",
      "d:\\break\\Django\\nlp-env\\Lib\\site-packages\\huggingface_hub\\file_download.py:1132: FutureWarning: `resume_download` is deprecated and will be removed in version 1.0.0. Downloads always resume when possible. If you want to force a new download, use `force_download=True`.\n",
      "  warnings.warn(\n"
     ]
    }
   ],
   "source": [
    "embeddings = download_hugging_face_embedding()"
   ]
  },
  {
   "cell_type": "code",
   "execution_count": 10,
   "metadata": {},
   "outputs": [
    {
     "data": {
      "text/plain": [
       "HuggingFaceEmbeddings(client=SentenceTransformer(\n",
       "  (0): Transformer({'max_seq_length': 256, 'do_lower_case': False}) with Transformer model: BertModel \n",
       "  (1): Pooling({'word_embedding_dimension': 384, 'pooling_mode_cls_token': False, 'pooling_mode_mean_tokens': True, 'pooling_mode_max_tokens': False, 'pooling_mode_mean_sqrt_len_tokens': False, 'pooling_mode_weightedmean_tokens': False, 'pooling_mode_lasttoken': False, 'include_prompt': True})\n",
       "  (2): Normalize()\n",
       "), model_name='sentence-transformers/all-MiniLM-L6-v2', cache_folder=None, model_kwargs={}, encode_kwargs={}, multi_process=False, show_progress=False)"
      ]
     },
     "execution_count": 10,
     "metadata": {},
     "output_type": "execute_result"
    }
   ],
   "source": [
    "embeddings"
   ]
  },
  {
   "cell_type": "code",
   "execution_count": 11,
   "metadata": {},
   "outputs": [
    {
     "name": "stdout",
     "output_type": "stream",
     "text": [
      "[-0.04267304763197899, 0.09203755855560303, -0.06857625395059586, 0.019599666818976402, -0.0344499796628952, -0.019837217405438423, 0.11814744025468826, 0.030716711655259132, -0.05531094968318939, -0.010717896744608879, 0.037955548614263535, -0.0823628306388855, -0.012199390679597855, 0.03727022930979729, -0.04323684796690941, 0.012073601596057415, 0.04795260354876518, 0.010918808169662952, -0.01188730075955391, -0.08474653214216232, 0.04340653866529465, 0.01794005185365677, -0.06939361989498138, 0.06611159443855286, -0.04450161010026932, 0.00441769789904356, 0.07457327842712402, 0.07306434214115143, -0.0455530509352684, -0.04509250074625015, -0.07262466102838516, 0.015877550467848778, -0.023389682173728943, -0.023469164967536926, -0.0416022427380085, 0.10671326518058777, -0.08255365490913391, -0.04389277845621109, 0.019976146519184113, -0.019873138517141342, -0.0065434277057647705, -0.03043478913605213, -0.004757374990731478, 0.015238326042890549, -0.0179733969271183, -0.06671258062124252, 0.06025581806898117, 0.05038544908165932, 0.020935270935297012, 0.05173422396183014, -0.07631057500839233, -0.04115099459886551, -0.0020161925349384546, 0.027834998443722725, 0.006015051156282425, -0.002400273224338889, -0.04019581899046898, -0.03285470977425575, 0.045077111572027206, -0.06319064646959305, -0.05114636570215225, -0.029284100979566574, 0.02090013585984707, 0.024487117305397987, 0.039564646780490875, -0.031044356524944305, 0.04888381436467171, -0.06522271782159805, -0.042565375566482544, 0.05306975170969963, 0.044418029487133026, 0.012641837820410728, 0.06596191972494125, -0.056085508316755295, 0.03176432102918625, -0.07928480207920074, -0.011877519078552723, -0.008660676889121532, 0.08474155515432358, -0.013432038947939873, 0.07409848272800446, 0.007898454554378986, 0.04291140288114548, 0.0762285441160202, -0.054401945322752, 0.07031743973493576, 0.00402421597391367, -0.02118903584778309, -0.07546994090080261, -0.053397372364997864, -0.034726038575172424, 0.027150049805641174, -0.03674837201833725, -0.023221829906105995, -0.08968017250299454, -0.017271369695663452, -0.004383257124572992, 0.07326165586709976, -0.06382710486650467, 0.11730226129293442, -0.04658134654164314, -0.0052461219020187855, -0.061425719410181046, 0.02634725347161293, -0.0021616220474243164, -0.03640841692686081, 0.0018264054087921977, 0.024913689121603966, 0.1040835827589035, 0.0368693545460701, -0.10626517236232758, 0.03817529231309891, -0.03075402043759823, 0.04366190358996391, -0.007150606717914343, 0.02773386240005493, 0.040802355855703354, 0.031766194850206375, -0.08074476569890976, 0.0067091831006109715, 0.045289963483810425, -0.023661229759454727, 0.019023416563868523, -0.08879467844963074, 0.023114418610930443, -0.08005888760089874, -0.013202578760683537, -1.3691929527992571e-33, 0.0483456552028656, 0.0038032210431993008, 0.1021680235862732, 0.04067353531718254, -0.010293925181031227, -0.06211960315704346, -0.03571789339184761, -0.015841452404856682, -0.053951531648635864, 0.027809079736471176, -0.08596204221248627, -0.031212173402309418, -0.10127856582403183, 0.009072285145521164, 0.015854226425290108, 0.0006934729753993452, -0.04207271710038185, 0.06277203559875488, -0.04672100394964218, 0.05428471788764, -0.019413702189922333, 0.11136158555746078, -0.006805042270570993, 0.05170465633273125, -0.07116888463497162, 0.06465946137905121, 0.04680950939655304, -0.01739242859184742, 0.045290686190128326, 0.052269935607910156, 0.05016486346721649, 0.0012220798525959253, 0.02522410824894905, -0.051404405385255814, 0.013664807192981243, -0.059246331453323364, -0.07502184063196182, -0.06116080284118652, -0.06887451559305191, -0.05057615786790848, 0.003207436529919505, 0.034418582916259766, -0.050847992300987244, -0.06524475663900375, -0.011793161742389202, 0.013360480777919292, 0.05547327175736427, 0.011682218872010708, 0.031266216188669205, -0.005390476901084185, 0.004770323168486357, -0.023181336000561714, 0.0028051992412656546, -0.008379275910556316, -0.009428916499018669, -0.05474038049578667, -0.035895224660634995, -0.007966239005327225, 0.11846640706062317, 0.04089748486876488, -0.03484413027763367, -0.0035940848756581545, -0.05121605843305588, 0.04429669678211212, -0.03241805359721184, -0.07612127810716629, 0.04400908946990967, -0.017465578392148018, 0.04169893637299538, -0.022288033738732338, 0.015699021518230438, 0.016338083893060684, -0.0023969197645783424, 0.09708864986896515, -0.042667124420404434, 0.014880523085594177, 0.06690835952758789, 0.0008009804296307266, 0.02889457903802395, -0.020121358335018158, 0.013862576335668564, 0.021548308432102203, 0.07262609899044037, -0.006256897002458572, 0.05405813828110695, -9.077809227164835e-05, -0.06186854466795921, -0.025411298498511314, -0.0027295509353280067, 0.08161516487598419, -0.12987639009952545, -0.0383392795920372, 0.08967646956443787, -0.05512969568371773, -0.039665717631578445, 7.4701169076169e-34, -0.05152132362127304, -0.05758460611104965, 0.013443786650896072, 0.022216934710741043, 0.04405183345079422, 0.08668795228004456, 0.03612247854471207, 0.13536052405834198, 0.05010988563299179, -0.00971378292888403, 0.11285651475191116, -0.028556102886795998, 0.08621830493211746, -0.029500309377908707, 0.013989852741360664, 0.08443153649568558, 0.002524478593841195, 0.002351120114326477, -0.016959965229034424, 0.015808889642357826, -0.004833216778934002, -0.04592965915799141, -0.0738978311419487, -0.09764136373996735, -0.004154366906732321, 0.06330046057701111, -0.015895066782832146, 0.07336234301328659, -0.07962825894355774, 0.09599953889846802, 0.012086553499102592, -0.07716548442840576, -0.03330802172422409, 0.05777467042207718, -0.016121838241815567, 0.07204203307628632, -0.07154136896133423, 0.06005004420876503, 0.03416263312101364, 0.014931435696780682, 0.0075973812490701675, -0.10922019183635712, 0.06090882420539856, 0.08008135110139847, 0.025831229984760284, 0.04924945533275604, -0.10191888362169266, 0.033215299248695374, -0.005020525306463242, 0.046410638839006424, -0.05624094977974892, 0.05458838865160942, -0.0477076917886734, -0.08231725543737411, 0.01937234215438366, 0.027189357206225395, -0.07413467764854431, -0.01957293041050434, 0.0015077557181939483, 0.06058715283870697, 0.0033887852914631367, 0.07040724903345108, -0.04337826743721962, 0.10508634895086288, -0.039308417588472366, 0.06287793815135956, 0.018786244094371796, -0.12710979580879211, 0.03434377163648605, -0.011309188790619373, 0.1075633093714714, -0.038353241980075836, -0.02071082778275013, -0.009878614917397499, 0.0760142058134079, 0.003953241277486086, -0.0827813670039177, 0.039836060255765915, -0.0162257868796587, 0.02072896994650364, -0.014445435255765915, -0.015568801201879978, -0.0345374159514904, 0.07722626626491547, 0.007242714054882526, -0.001612544758245349, 0.08653181046247482, -0.020617354661226273, 0.05072421580553055, -0.015499025583267212, 0.02947116456925869, 0.07565172016620636, -0.001996192615479231, -0.05854630842804909, 0.028093386441469193, -1.2861446130330023e-08, -0.005197301506996155, -0.06069592386484146, 0.07511850446462631, -0.08187917619943619, 0.013653001748025417, 0.04166236147284508, -0.021345308050513268, 0.03484991192817688, 0.018543651327490807, 0.11093269288539886, 0.07695130258798599, 0.004695103503763676, 0.002089749788865447, -0.04409696161746979, -0.01613301783800125, -0.06590945273637772, 0.054606497287750244, 0.06686067581176758, -0.042828939855098724, -0.051243383437395096, -0.07691581547260284, -0.0030947253108024597, 0.0892333984375, -0.02672259323298931, 0.031147975474596024, -0.06774626672267914, 0.008165431208908558, -0.08321230858564377, -0.06643276661634445, -0.02209319919347763, 0.012912181206047535, 0.10221492499113083, -0.04625574126839638, 0.001362072303891182, -0.08102884143590927, 0.024080652743577957, -0.01715211011469364, 0.054375000298023224, 0.019363094121217728, -0.025754746049642563, 0.04477980360388756, 0.03807670623064041, 0.062010470777750015, -0.00350838340818882, 0.007777240592986345, 0.020054543390870094, 0.010636362247169018, -0.013771855272352695, -0.014514985494315624, -0.056316252797842026, -0.04991280287504196, -0.008056486025452614, -0.009530954994261265, -0.032357607036828995, 0.0012053956743329763, -0.001983898226171732, 0.08331413567066193, -0.0022856462746858597, -0.011334933340549469, -0.06329354643821716, 0.07071851938962936, -0.05513671413064003, 0.0479365810751915, 0.011665008030831814] 384\n"
     ]
    }
   ],
   "source": [
    "query_result = embeddings.embed_query('Hyalo')\n",
    "print(query_result, len(query_result))"
   ]
  },
  {
   "cell_type": "code",
   "execution_count": 12,
   "metadata": {},
   "outputs": [],
   "source": [
    "from pinecone import Pinecone\n",
    "\n",
    "pc = Pinecone(api_key=\"6417e512-b4b6-47e2-be05-41492c3c1589\")\n",
    "index = pc.Index(\"chatbot\")"
   ]
  },
  {
   "cell_type": "code",
   "execution_count": 15,
   "metadata": {},
   "outputs": [],
   "source": [
    "from pinecone import Pinecone, ServerlessSpec\n",
    "pc = Pinecone(api_key='6417e512-b4b6-47e2-be05-41492c3c1589')"
   ]
  },
  {
   "cell_type": "code",
   "execution_count": 23,
   "metadata": {},
   "outputs": [],
   "source": [
    "import os\n",
    "from langchain.vectorstores import Pinecone as PineconeStore\n",
    "from langchain_pinecone import PineconeVectorStore\n",
    "\n",
    "# Set your Pinecone API key\n",
    "os.environ['PINECONE_API_KEY'] = '6417e512-b4b6-47e2-be05-41492c3c1589'\n",
    "\n",
    "# Now you can initialize PineconeStore without the configuration error\n",
    "docsearch = PineconeStore.from_texts([t.page_content for t in text_chunks], embeddings, index_name='chatbot')\n"
   ]
  },
  {
   "cell_type": "code",
   "execution_count": 24,
   "metadata": {},
   "outputs": [
    {
     "name": "stdout",
     "output_type": "stream",
     "text": [
      "Result [Document(page_content=\"GALE ENCYCLOPEDIA OF MEDICINE 2 117Allergies\\nAllergic rhinitis is commonly triggered by\\nexposure to household dust, animal fur,or pollen. The foreign substance thattriggers an allergic reaction is calledan allergen.\\nThe presence of an allergen causes the\\nbody's lymphocytes to begin producingIgE antibodies. The lymphocytes of an allergy sufferer produce an unusuallylarge amount of IgE.\\nIgE molecules attach to mast\\ncells, which contain histamine.HistaminePollen grains\\nLymphocyte\\nFIRST EXPOSURE\"), Document(page_content=\"GALE ENCYCLOPEDIA OF MEDICINE 2 117Allergies\\nAllergic rhinitis is commonly triggered by\\nexposure to household dust, animal fur,or pollen. The foreign substance thattriggers an allergic reaction is calledan allergen.\\nThe presence of an allergen causes the\\nbody's lymphocytes to begin producingIgE antibodies. The lymphocytes of an allergy sufferer produce an unusuallylarge amount of IgE.\\nIgE molecules attach to mast\\ncells, which contain histamine.HistaminePollen grains\\nLymphocyte\\nFIRST EXPOSURE\"), Document(page_content='allergens are the following:\\n• plant pollens\\n• animal fur and dander\\n• body parts from house mites (microscopic creatures\\nfound in all houses)\\n• house dust• mold spores• cigarette smoke• solvents• cleaners\\nCommon food allergens include the following:\\n• nuts, especially peanuts, walnuts, and brazil nuts\\n• fish, mollusks, and shellfish• eggs• wheat• milk• food additives and preservatives\\nThe following types of drugs commonly cause aller-\\ngic reactions:\\n• penicillin or other antibiotics'), Document(page_content='allergens are the following:\\n• plant pollens\\n• animal fur and dander\\n• body parts from house mites (microscopic creatures\\nfound in all houses)\\n• house dust• mold spores• cigarette smoke• solvents• cleaners\\nCommon food allergens include the following:\\n• nuts, especially peanuts, walnuts, and brazil nuts\\n• fish, mollusks, and shellfish• eggs• wheat• milk• food additives and preservatives\\nThe following types of drugs commonly cause aller-\\ngic reactions:\\n• penicillin or other antibiotics'), Document(page_content='itchy, scratchy nose, eyes, and throat common in aller-gic rhinitis.\\nThe number of possible airborne allergens is enor-')]\n"
     ]
    }
   ],
   "source": [
    "docsearch = PineconeVectorStore.from_existing_index('chatbot', embeddings)\n",
    "query = 'What are allergies'\n",
    "\n",
    "docs = docsearch.similarity_search(query, k=5)\n",
    "\n",
    "print('Result', docs)\n"
   ]
  },
  {
   "cell_type": "code",
   "execution_count": null,
   "metadata": {},
   "outputs": [],
   "source": []
  }
 ],
 "metadata": {
  "kernelspec": {
   "display_name": "nlp-env",
   "language": "python",
   "name": "python3"
  },
  "language_info": {
   "codemirror_mode": {
    "name": "ipython",
    "version": 3
   },
   "file_extension": ".py",
   "mimetype": "text/x-python",
   "name": "python",
   "nbconvert_exporter": "python",
   "pygments_lexer": "ipython3",
   "version": "3.11.7"
  }
 },
 "nbformat": 4,
 "nbformat_minor": 2
}
